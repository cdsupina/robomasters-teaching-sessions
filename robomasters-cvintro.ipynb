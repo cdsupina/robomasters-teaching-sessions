{
 "cells": [
  {
   "cell_type": "markdown",
   "metadata": {},
   "source": [
    "# **Introduction to Computer Vision**"
   ]
  },
  {
   "cell_type": "markdown",
   "metadata": {},
   "source": [
    "## What is Computer Vision?\n",
    "\n",
    "![cars_example](http://hdgreetings.typepad.com/.a/6a00e54fc3203e883401b7c7a84e63970b-800wi \"Cars Example\")\n",
    "\n",
    "Computer vision is the process that allows for computers to have a high level understanding of information from images or videos. \"High level understanding\" means more than simply the data that makes up an image or video. It means to understand what is going on in the image. Is there a car? Is it facing toward or away from the camera? If it is a video, what is the speed of the car?"
   ]
  },
  {
   "cell_type": "markdown",
   "metadata": {},
   "source": [
    "## Installing\n",
    "\n",
    "For robomasters, we will primarily be using [OpenCV](https://opencv.org/). OpenCV stands for open source computer vision and it is a great choice for all levels of computer vision applications. It works on almost any platform and has interfaces available for Python, C++, and Java. You may use which ever language you are most comfortable with for robomasters work, but Python will be used for demonstrations and guides.\n",
    "\n",
    "For Python, the easist way to install OpenCV is with `pip`, a package manager for Python. Depending on your setup, you may need to use `pip3` instead. To install OpenCV with `pip` enter the following command:\n",
    "\n",
    "`pip install opencv-python`\n",
    "\n",
    "To check if OpenCV installed, start the Python 3 repl in your terminal, by entering either `python` or `python3`. Then in the repl enter:\n",
    "\n",
    "`import cv2`\n",
    "\n",
    "Next enter:\n",
    "\n",
    "`print(cv2.__version__)`\n",
    "\n",
    "If \"3.X.X\" is printed you have successfully installed OpenCV. Congratulations."
   ]
  },
  {
   "cell_type": "markdown",
   "metadata": {},
   "source": [
    "## Getting Started"
   ]
  },
  {
   "cell_type": "markdown",
   "metadata": {},
   "source": [
    "In almost all of your OpenCV programs you will need the first two lines to be as shown below:"
   ]
  },
  {
   "cell_type": "code",
   "execution_count": 61,
   "metadata": {},
   "outputs": [],
   "source": [
    "import cv2\n",
    "import numpy as np\n",
    "import imutils"
   ]
  },
  {
   "cell_type": "markdown",
   "metadata": {},
   "source": [
    "We already know that `cv2` refers to the OpenCV library. The second import, called `numpy`, is a scientific computing package."
   ]
  },
  {
   "cell_type": "markdown",
   "metadata": {},
   "source": [
    "## Displaying an Image"
   ]
  },
  {
   "cell_type": "markdown",
   "metadata": {},
   "source": [
    "Displaying an image with OpenCV is very simple. It requies four basic functions. The first `imread` does exactly what it sounds like. It reads an image located somewhere on your computer. For the first example `image_1.png` will be used. It is located in the same directory as this one. If you want to view the image you can open it within Jupyter Lab by simply double clicking on it in the directory. The cell below demonstrates how to declare an image for use with OpenCV."
   ]
  },
  {
   "cell_type": "code",
   "execution_count": 2,
   "metadata": {},
   "outputs": [],
   "source": [
    "img = cv2.imread('image_1.png')"
   ]
  },
  {
   "cell_type": "markdown",
   "metadata": {},
   "source": [
    "If the `type` of `img` is printed, we can see that `img` is in fact simply an `numpy` type called an `ndarray` standing for n-dimensional array. We can then print `img` variable itself and see that is simply a three dimensional array as shown below."
   ]
  },
  {
   "cell_type": "code",
   "execution_count": 3,
   "metadata": {},
   "outputs": [
    {
     "name": "stdout",
     "output_type": "stream",
     "text": [
      "<class 'numpy.ndarray'>\n",
      "[[[  0   0   0]\n",
      "  [  0   0   0]\n",
      "  [  0   0   0]\n",
      "  ...\n",
      "  [  0   0   0]\n",
      "  [  0   0   0]\n",
      "  [  0   0   0]]\n",
      "\n",
      " [[  0   0   0]\n",
      "  [  0   0   0]\n",
      "  [  0   0   0]\n",
      "  ...\n",
      "  [  0   0   0]\n",
      "  [  0   0   0]\n",
      "  [  0   0   0]]\n",
      "\n",
      " [[  0   0   0]\n",
      "  [  0   0   0]\n",
      "  [255 255 255]\n",
      "  ...\n",
      "  [255 255 255]\n",
      "  [  0   0   0]\n",
      "  [  0   0   0]]\n",
      "\n",
      " ...\n",
      "\n",
      " [[  0   0   0]\n",
      "  [  0   0   0]\n",
      "  [255 255 255]\n",
      "  ...\n",
      "  [255 255 255]\n",
      "  [  0   0   0]\n",
      "  [  0   0   0]]\n",
      "\n",
      " [[  0   0   0]\n",
      "  [  0   0   0]\n",
      "  [  0   0   0]\n",
      "  ...\n",
      "  [  0   0   0]\n",
      "  [  0   0   0]\n",
      "  [  0   0   0]]\n",
      "\n",
      " [[  0   0   0]\n",
      "  [  0   0   0]\n",
      "  [  0   0   0]\n",
      "  ...\n",
      "  [  0   0   0]\n",
      "  [  0   0   0]\n",
      "  [  0   0   0]]]\n"
     ]
    }
   ],
   "source": [
    "print(type(img))\n",
    "print(img)"
   ]
  },
  {
   "cell_type": "markdown",
   "metadata": {},
   "source": [
    "Obviously this is a huge array, so it is not very helpful to print the whole array at once. Instead let's print just a single pixel from the image at point (50,50). For dealing with images, point (0,0) is the upper left corner of the image. The resulting array is of length three and shows the color values for the pixel at that coordinate in BGR (blue, green, red) format. This is what an image is made up of. It is simply multidimensional array of pixel values."
   ]
  },
  {
   "cell_type": "code",
   "execution_count": 4,
   "metadata": {},
   "outputs": [
    {
     "name": "stdout",
     "output_type": "stream",
     "text": [
      "[ 62 148  43]\n"
     ]
    }
   ],
   "source": [
    "print(img[50][50])"
   ]
  },
  {
   "cell_type": "markdown",
   "metadata": {},
   "source": [
    "To actually show the image, two more functions are needed. `imshow` shows the image and takes the name of the window and the image (remember an image is just an `ndarray`). The second function isn't as obvious. It is called `waitKey` and it allows you to designate the amount of time you wish for the image to show in milliseconds. In the case of this program the function is given a 0 which means that it will wait infinite time until a key is pressed.\n",
    "\n",
    "The last function in the cell below simply closes all windows. Execute the cell below, and press any key to destroy the window. You can mouse to coordinates (50,50) on the image and see if it lines up with the BGR value that you saw above."
   ]
  },
  {
   "cell_type": "code",
   "execution_count": 5,
   "metadata": {},
   "outputs": [],
   "source": [
    "cv2.imshow('image', img) # show the image\n",
    "cv2.waitKey(0) # wait until any key is pressed\n",
    "cv2.destroyAllWindows() # destroy all windows"
   ]
  },
  {
   "cell_type": "markdown",
   "metadata": {},
   "source": [
    "## Converting Images\n",
    "\n",
    "Coverting images to different color schemes is very important to manipulating and isolating important parts of images. Below is a simply color conversion that converts a color image (BGR) to grayscale. It uses the the `cvtColor` function to achieve this which takes the original image as the first paramater and a constant `COLOR_BGR2GRAY`."
   ]
  },
  {
   "cell_type": "code",
   "execution_count": 6,
   "metadata": {},
   "outputs": [],
   "source": [
    "gray_image = cv2.cvtColor(img, cv2.COLOR_BGR2GRAY)"
   ]
  },
  {
   "cell_type": "markdown",
   "metadata": {},
   "source": [
    "Recall that the cell below is the same as the cell a couple cells above simply with `img` swapped with `gray_image`. Execute it to display the now grayscale image."
   ]
  },
  {
   "cell_type": "code",
   "execution_count": 7,
   "metadata": {},
   "outputs": [],
   "source": [
    "cv2.imshow('image', gray_image) # show the image\n",
    "cv2.waitKey(0) # wait until any key is pressed\n",
    "cv2.destroyAllWindows() # destroy all windows"
   ]
  },
  {
   "cell_type": "markdown",
   "metadata": {},
   "source": [
    "One of the most important conversions that you will often need to make is the conversion to HSV. HSV stands for \"hue, saturation, value\" and is represented by the graphic below.\n",
    "\n",
    "![hsv](https://i.pinimg.com/originals/9d/db/c1/9ddbc1080e2b85241ebf04b3b27cfa0a.png)\n",
    "\n",
    "When working with computervision it is often desired to convert images to HSV due to the increased ease in segmenting the color values. Observe the example below.\n",
    "\n",
    "Here we use a new image of a car from behind. The first cell below displays the image in standard BGR."
   ]
  },
  {
   "cell_type": "code",
   "execution_count": 8,
   "metadata": {},
   "outputs": [],
   "source": [
    "car_img = cv2.imread('car.jpg')\n",
    "cv2.imshow('image', car_img) # show the image\n",
    "cv2.waitKey(0) # wait until any key is pressed\n",
    "cv2.destroyAllWindows() # destroy all windows"
   ]
  },
  {
   "cell_type": "markdown",
   "metadata": {},
   "source": [
    "However, in the cell below, the image is converted to HSV. Notice how the headlights are seperated from the rest of the image."
   ]
  },
  {
   "cell_type": "code",
   "execution_count": 9,
   "metadata": {},
   "outputs": [],
   "source": [
    "hsv_image = cv2.cvtColor(car_img, cv2.COLOR_BGR2HSV)\n",
    "cv2.imshow('image', hsv_image) # show the image\n",
    "cv2.waitKey(0) # wait until any key is pressed\n",
    "cv2.destroyAllWindows() # destroy all windows"
   ]
  },
  {
   "cell_type": "markdown",
   "metadata": {},
   "source": [
    "## Isolate Elements\n",
    "Now that we have converted the image to a more desireable color system, it is time to actually try separating the important elements from the background. To do this we will define a range of values to look for in the image. In OpenCV, hue ranges from 0 to 179, while saturation and value range from 0 to 255. To isolate important elements we will simply define a range of these values to isolate. Observe the example below with the car image again."
   ]
  },
  {
   "cell_type": "code",
   "execution_count": 49,
   "metadata": {},
   "outputs": [],
   "source": [
    "lower_1 = np.array([0,30,0]) # define lower hsv range\n",
    "upper_1 = np.array([10,255,255])# define upper hsv range\n",
    "mask_1 = cv2.inRange(hsv_image, lower_1, upper_1)# define a mask using the range\n",
    "\n",
    "lower_2 = np.array([160,0,0]) # define lower hsv range\n",
    "upper_2 = np.array([179,255,255])# define upper hsv range\n",
    "mask_2 = cv2.inRange(hsv_image, lower_2, upper_2)# define a mask using the range\n",
    "        \n",
    "headlights_1 = cv2.bitwise_and(hsv_image, hsv_image, mask=mask_1) # bitwise and the using the mask\n",
    "\n",
    "headlights_2 = cv2.bitwise_and(hsv_image, hsv_image, mask=mask_2)\n",
    "\n",
    "result = headlights_1+headlights_2\n",
    "\n",
    "cv2.imshow('image', result) # show the image\n",
    "cv2.waitKey(0) # wait until any key is pressed\n",
    "cv2.destroyAllWindows() # destroy all windows"
   ]
  },
  {
   "cell_type": "markdown",
   "metadata": {},
   "source": [
    "## Blur\n",
    "The next step is to blur the result from isolating the elements we want. It's very hard to achieve a perfect isolation of the elements that we want, so to improve our isolation we use a blur. Which requires us first to convert back to BGR."
   ]
  },
  {
   "cell_type": "code",
   "execution_count": 50,
   "metadata": {},
   "outputs": [],
   "source": [
    "bgr_headlights = cv2.cvtColor(result, cv2.COLOR_HSV2BGR)\n",
    "blurred_headlights = cv2.GaussianBlur(bgr_headlights, (5,5), 0)    \n",
    "cv2.imshow('Blurred', blurred_headlights)\n",
    "cv2.waitKey(0) # wait until any key is pressed\n",
    "cv2.destroyAllWindows() # destroy all windows"
   ]
  },
  {
   "cell_type": "markdown",
   "metadata": {},
   "source": [
    "## Thresholding\n",
    "Thresholding means to convert the pixels in an image to a consistent color if it is above a certain value and to another color if it is below a certain value. See below."
   ]
  },
  {
   "cell_type": "code",
   "execution_count": 132,
   "metadata": {},
   "outputs": [],
   "source": [
    "thresh = cv2.threshold(blurred_headlights, 60, 255, cv2.THRESH_BINARY)[1]\n",
    "cv2.imshow('Threshold', thresh)\n",
    "cv2.waitKey(0) # wait until any key is pressed\n",
    "cv2.destroyAllWindows() # destroy all windows"
   ]
  },
  {
   "cell_type": "markdown",
   "metadata": {},
   "source": [
    "## Detecting Shapes"
   ]
  },
  {
   "cell_type": "code",
   "execution_count": 133,
   "metadata": {},
   "outputs": [],
   "source": [
    "def detect(c):\n",
    "        # initialize the shape name and approximate the contour\n",
    "        shape = \"unidentified\"\n",
    "        peri = cv2.arcLength(c, True)\n",
    "        approx = cv2.approxPolyDP(c, 0.06 * peri, True)\n",
    "        # if the shape is a triangle, it will have 3 vertices\n",
    "        if len(approx) == 3:\n",
    "            shape = \"triangle\"\n",
    " \n",
    "        # if the shape has 4 vertices, it is either a square or\n",
    "        # a rectangle\n",
    "        elif len(approx) == 4:\n",
    "            # compute the bounding box of the contour and use the\n",
    "            # bounding box to compute the aspect ratio\n",
    "            (x, y, w, h) = cv2.boundingRect(approx)\n",
    "            ar = w / float(h)\n",
    " \n",
    "            # a square will have an aspect ratio that is approximately\n",
    "            # equal to one, otherwise, the shape is a rectangle\n",
    "            if ar >= 0.95 and ar <= 1.05:\n",
    "                shape = \"square\"\n",
    "            elif ar <= 0.50:\n",
    "                shape = \"lightbar\"\n",
    "            else:\n",
    "                shape = \"rectangle\"\n",
    "                 \n",
    "        # if the shape is a pentagon, it will have 5 vertices\n",
    "        elif len(approx) == 5:\n",
    "            shape = \"pentagon\"\n",
    " \n",
    "        # otherwise, we assume the shape is a circle\n",
    "        else:\n",
    "            shape = \"circle\"\n",
    " \n",
    "        # return the name of the shape\n",
    "        return (shape, approx)"
   ]
  },
  {
   "cell_type": "code",
   "execution_count": 134,
   "metadata": {},
   "outputs": [
    {
     "name": "stdout",
     "output_type": "stream",
     "text": [
      "rectangle\n",
      "rectangle\n",
      "rectangle\n",
      "rectangle\n",
      "pentagon\n"
     ]
    }
   ],
   "source": [
    "gray = cv2.cvtColor(thresh, cv2.COLOR_BGR2GRAY)\n",
    "\n",
    "cnts = cv2.findContours(gray, cv2.RETR_EXTERNAL, cv2.CHAIN_APPROX_SIMPLE)\n",
    "cnts = cnts[0] if imutils.is_cv2() else cnts[1]\n",
    "\n",
    "for c in cnts:\n",
    "    try:\n",
    "        M = cv2.moments(c)\n",
    "        cX = int((M[\"m10\"] / M[\"m00\"]))\n",
    "        cY = int((M[\"m01\"] / M[\"m00\"])) \n",
    "        \n",
    "        shape, approx = detect(c)\n",
    "        print(shape)\n",
    "\n",
    "\n",
    "        if shape == 'rectangle':\n",
    "            cv2.drawContours(thresh, [c], -1, (0, 255, 0), 1)\n",
    "            #cv2.putText(thresh, shape, (cX, cY), cv2.FONT_HERSHEY_SIMPLEX, 0.3, (255, 255, 255), 1)\n",
    "\n",
    "            (x, y, w, h) = cv2.boundingRect(approx)\n",
    "            cv2.rectangle(thresh,(x,y),(x+w,y+h),(0,255,0),1)\n",
    "    except:\n",
    "        pass\n",
    "cv2.imshow('Threshold', thresh)\n",
    "\n",
    "cv2.waitKey(0) # wait until any key is pressed\n",
    "cv2.destroyAllWindows() # destroy all windows"
   ]
  },
  {
   "cell_type": "code",
   "execution_count": null,
   "metadata": {},
   "outputs": [],
   "source": []
  }
 ],
 "metadata": {
  "kernelspec": {
   "display_name": "Python 3",
   "language": "python",
   "name": "python3"
  },
  "language_info": {
   "codemirror_mode": {
    "name": "ipython",
    "version": 3
   },
   "file_extension": ".py",
   "mimetype": "text/x-python",
   "name": "python",
   "nbconvert_exporter": "python",
   "pygments_lexer": "ipython3",
   "version": "3.7.0"
  }
 },
 "nbformat": 4,
 "nbformat_minor": 2
}
